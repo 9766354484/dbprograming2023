{
  "nbformat": 4,
  "nbformat_minor": 0,
  "metadata": {
    "colab": {
      "provenance": []
    },
    "kernelspec": {
      "name": "python3",
      "display_name": "Python 3"
    },
    "language_info": {
      "name": "python"
    }
  },
  "cells": [
    {
      "cell_type": "code",
      "execution_count": 1,
      "metadata": {
        "colab": {
          "base_uri": "https://localhost:8080/"
        },
        "id": "wobzZEnrPDX0",
        "outputId": "0b1905c9-98bd-4d17-ca43-4b32bf9c6bb0"
      },
      "outputs": [
        {
          "output_type": "stream",
          "name": "stdout",
          "text": [
            "Looking in indexes: https://pypi.org/simple, https://us-python.pkg.dev/colab-wheels/public/simple/\n",
            "Collecting pymysql\n",
            "  Downloading PyMySQL-1.0.3-py3-none-any.whl (43 kB)\n",
            "\u001b[2K     \u001b[90m━━━━━━━━━━━━━━━━━━━━━━━━━━━━━━━━━━━━━━━━\u001b[0m \u001b[32m43.7/43.7 kB\u001b[0m \u001b[31m3.0 MB/s\u001b[0m eta \u001b[36m0:00:00\u001b[0m\n",
            "\u001b[?25hInstalling collected packages: pymysql\n",
            "Successfully installed pymysql-1.0.3\n"
          ]
        }
      ],
      "source": [
        "pip install pymysql"
      ]
    },
    {
      "cell_type": "code",
      "source": [
        "import pymysql\n",
        "con=pymysql.connect(host='bxootpz4agsgdvaonjxs-mysql.services.clever-cloud.com',user='u3quhw8gzrpo35nf',password='tfEL1tqt0rrpaB8NPWMl',database='bxootpz4agsgdvaonjxs')\n",
        "print('python connected to MySQL clould database successfully')\n",
        "con.close()"
      ],
      "metadata": {
        "colab": {
          "base_uri": "https://localhost:8080/"
        },
        "id": "9bmDLpxvSdN9",
        "outputId": "42eee23c-8c6e-47a4-8ae6-4bf9c6bf483b"
      },
      "execution_count": 2,
      "outputs": [
        {
          "output_type": "stream",
          "name": "stdout",
          "text": [
            "python connected to MySQL clould database successfully\n"
          ]
        }
      ]
    },
    {
      "cell_type": "markdown",
      "source": [
        "**SEARCH MOBILE IN A TABLE**"
      ],
      "metadata": {
        "id": "1CoGAO-E_xPZ"
      }
    },
    {
      "cell_type": "code",
      "source": [
        "import pymysql\n",
        "con=pymysql.connect(host='bxootpz4agsgdvaonjxs-mysql.services.clever-cloud.com',user='u3quhw8gzrpo35nf',password='tfEL1tqt0rrpaB8NPWMl',database='bxootpz4agsgdvaonjxs')\n",
        "curs=con.cursor()\n",
        "try:\n",
        "  no=input('enter a modnm: ')\n",
        "  curs.execute(\"select * from mobiles  where modnm='%s'\"%no)\n",
        "  data=curs.fetchone()\n",
        "  if data:\n",
        "    print(data)\n",
        "  else:\n",
        "    print('not found')\n",
        "except Exception as err:\n",
        "  print('error',err)\n",
        "con.close()"
      ],
      "metadata": {
        "colab": {
          "base_uri": "https://localhost:8080/"
        },
        "id": "eFyCAimsS8jT",
        "outputId": "08a78fbd-4705-4558-9eec-59508e932b4a"
      },
      "execution_count": null,
      "outputs": [
        {
          "output_type": "stream",
          "name": "stdout",
          "text": [
            "enter a modnm: realme 2\n",
            "not found\n"
          ]
        }
      ]
    },
    {
      "cell_type": "markdown",
      "source": [
        "ADD NEW MOBILE"
      ],
      "metadata": {
        "id": "v2-FBCsGEy2m"
      }
    },
    {
      "cell_type": "code",
      "source": [
        "import pymysql\n",
        "con=pymysql.connect(host='bxootpz4agsgdvaonjxs-mysql.services.clever-cloud.com',user='u3quhw8gzrpo35nf',password='tfEL1tqt0rrpaB8NPWMl',database='bxootpz4agsgdvaonjxs')\n",
        "curs=con.cursor()\n",
        "\n",
        "modnm=input('Enter modnm : ')\n",
        "comp=input('company:')\n",
        "col=input('color: ')\n",
        "proc=input('processor: ')\n",
        "conn=float(input('connectivity: '))\n",
        "ram=float(input('ram: '))\n",
        "rom=float(input('rom: '))\n",
        "scr=float(input('screen: '))\n",
        "bat=float(input('battery: '))\n",
        "pri=float(input('price: '))\n",
        "rat=float(input('rating: '))\n",
        "curs.execute(\"insert into mobiles values('%s','%s','%s','%s',%.2f,%.2f,%.2f,%.2f,%.2f,%.2f,%.2f)\"%(modnm,comp,col,proc,conn,ram,rom,scr,bat,pri,rat))\n",
        "con.commit()\n",
        "print('new mobile added to the table')\n",
        "con.close()\n",
        "\n"
      ],
      "metadata": {
        "id": "q46mWuyiU98U",
        "colab": {
          "base_uri": "https://localhost:8080/"
        },
        "outputId": "ac6556ac-9897-4e48-f943-faea69d08b67"
      },
      "execution_count": null,
      "outputs": [
        {
          "output_type": "stream",
          "name": "stdout",
          "text": [
            "Enter modnm : vivo Y22\n",
            "company:vivo\n",
            "color: starlit blue\n",
            "processor: mediatek\n",
            "connectivity: 4\n",
            "ram: 6\n",
            "rom: 128\n",
            "screen: 6.55\n",
            "battery: 5000\n",
            "price: 16999\n",
            "rating: 4.0\n",
            "new mobile added to the table\n"
          ]
        }
      ]
    },
    {
      "cell_type": "markdown",
      "source": [
        "**SHOW LIST OF ALL MOBILE**"
      ],
      "metadata": {
        "id": "Zf5LRKttFPAa"
      }
    },
    {
      "cell_type": "code",
      "source": [
        "import pymysql\n",
        "con=pymysql.connect(host='bxootpz4agsgdvaonjxs-mysql.services.clever-cloud.com',user='u3quhw8gzrpo35nf',password='tfEL1tqt0rrpaB8NPWMl',database='bxootpz4agsgdvaonjxs')\n",
        "curs=con.cursor()\n",
        "curs.execute(\"select * from mobiles\")\n",
        "data=curs.fetchall()\n",
        "print(data)\n",
        "con.close()\n",
        "\n"
      ],
      "metadata": {
        "id": "0eHw96afcSC2",
        "colab": {
          "base_uri": "https://localhost:8080/"
        },
        "outputId": "dfcfa274-c047-4dd8-dcd6-05b07362175f"
      },
      "execution_count": null,
      "outputs": [
        {
          "output_type": "stream",
          "name": "stdout",
          "text": [
            "(('note 10', 'redmi', 'shadow black', 'qualcommsnap dragon678', 4.0, 6.0, 128.0, 6.43, 5000.0, 20000.0, 4.3), ('note 10', 'redmi', 'shadow black', 'qualcommsnap dragon678', 4.0, 6.0, 128.0, 6.43, 5000.0, 20000.0, 4.3), ('samsung galaxy F04', 'samsung', 'jade purple', 'mediatok helio P35', 4.0, 4.0, 64.0, 6.5, 5000.0, 7499.0, 4.8), ('narzo 5 pro', 'realme', 'hyper blue', 'mediatok dimensity920', 5.0, 8.0, 128.0, 6.4, 5000.0, 18499.0, 4.5), ('oppo F17pro', 'oppo', 'blue', 'mediatok helio P95', 4.0, 8.0, 128.0, 6.43, 4015.0, 22000.0, 4.7), ('nord lite Ce3', 'oneplus', 'pastel lime', 'qualcomm', 5.0, 8.0, 128.0, 6.72, 5000.0, 19999.0, 4.8), ('redmi 11 prime', 'redmi', 'thunder black', 'mediatek dimensity700', 5.0, 6.0, 128.0, 6.58, 5000.0, 14999.0, 4.0), ('oneplus 11R', 'oneplus', 'sonic black', 'snapdragon', 5.0, 8.0, 128.0, 6.7, 5000.0, 39999.0, 4.4), ('Mi A3', 'Xiaomi', 'blue', 'qualcomm snapdragon 665', 5.0, 6.0, 128.0, 6.08, 5000.0, 16599.0, 4.5), (None, None, None, None, None, None, None, None, None, None, None), ('vivo Y22', 'vivo', 'starlit blue', 'mediatek', 4.0, 6.0, 128.0, 6.55, 5000.0, 16999.0, 4.0))\n"
          ]
        }
      ]
    },
    {
      "cell_type": "markdown",
      "source": [
        "**PRICE CHANGE**"
      ],
      "metadata": {
        "id": "W21tYHuSFZW6"
      }
    },
    {
      "cell_type": "code",
      "source": [
        "import pymysql\n",
        "con=pymysql.connect(host='bxootpz4agsgdvaonjxs-mysql.services.clever-cloud.com',user='u3quhw8gzrpo35nf',password='tfEL1tqt0rrpaB8NPWMl',database='bxootpz4agsgdvaonjxs')\n",
        "curs=con.cursor()\n",
        "try:\n",
        "  no=input('Enter modnm: ')\n",
        "  curs.execute(\"select * from mobiles where modnm='%s'\" %no)\n",
        "  data=curs.fetchone()\n",
        "  if data:\n",
        "    print(data)\n",
        "    pmode=input('Enter new price : ')\n",
        "    curs.execute(\"update mobiles set price=\"+pmode+\" where modnm='%s'\" %(no))\n",
        "    con.commit()\n",
        "    print('price changed successfully')\n",
        "  else:\n",
        "    print('mobile does not exist')\n",
        "except Exception as err:\n",
        "  print('error in code',err)\n",
        "con.close()\n"
      ],
      "metadata": {
        "id": "qWmQobFydw5j",
        "colab": {
          "base_uri": "https://localhost:8080/"
        },
        "outputId": "2c045e34-cc59-4c6b-d412-33861592c2fc"
      },
      "execution_count": null,
      "outputs": [
        {
          "output_type": "stream",
          "name": "stdout",
          "text": [
            "Enter modnm: note 10\n",
            "('note 10', 'redmi', 'shadow black', 'qualcommsnap dragon678', 4.0, 6.0, 128.0, 6.43, 5000.0, 1799.0, 4.3)\n",
            "Enter new price : 20000\n",
            "price changed successfully\n"
          ]
        }
      ]
    },
    {
      "cell_type": "markdown",
      "source": [
        "**DELETE MOBILE**"
      ],
      "metadata": {
        "id": "h5vAkRERFm5e"
      }
    },
    {
      "cell_type": "code",
      "source": [
        "import pymysql\n",
        "con=pymysql.connect(host='bxootpz4agsgdvaonjxs-mysql.services.clever-cloud.com',user='u3quhw8gzrpo35nf',password='tfEL1tqt0rrpaB8NPWMl',database='bxootpz4agsgdvaonjxs')\n",
        "curs=con.cursor()\n",
        "try:\n",
        "  no=input('Enter modnm: ')\n",
        "  curs.execute(\"select * from mobiles\")\n",
        "  data=curs.fetchone()\n",
        "  if data:\n",
        "    print(data)\n",
        "    cho=input('Do you really want to delete? (yes/no): ')\n",
        "    if cho.lower=='yes':\n",
        "       curs.execute(\"delete from mobiles where modnm='%s'\"%no)\n",
        "       con.commit()\n",
        "       print('mobile not delete')\n",
        "    else:\n",
        "       print('delete cancelled by user')\n",
        "  else:\n",
        "    print('account does not exist')\n",
        "except Exception as err:\n",
        "  print('error in code',err)\n",
        "con.close()\n"
      ],
      "metadata": {
        "colab": {
          "base_uri": "https://localhost:8080/"
        },
        "id": "gnxmxWb5lBLY",
        "outputId": "e24c0906-b5a3-4673-fd57-4b1d65382e73"
      },
      "execution_count": null,
      "outputs": [
        {
          "output_type": "stream",
          "name": "stdout",
          "text": [
            "Enter modnm: Mi A3\n",
            "('note 10', 'redmi', 'shadow black', 'qualcommsnap dragon678', 4.0, 6.0, 128.0, 6.43, 5000.0, 20000.0, 4.3)\n",
            "Do you really want to delete? (yes/no): no\n",
            "delete cancelled by user\n"
          ]
        }
      ]
    },
    {
      "cell_type": "markdown",
      "source": [
        "**UPDATE ALL MODELS WITH THE PURPOSE**"
      ],
      "metadata": {
        "id": "HA7wS4A2Z5XX"
      }
    },
    {
      "cell_type": "code",
      "source": [
        "import pymysql\n",
        "con=pymysql.connect(host='bxootpz4agsgdvaonjxs-mysql.services.clever-cloud.com',user='u3quhw8gzrpo35nf',password='tfEL1tqt0rrpaB8NPWMl',database='bxootpz4agsgdvaonjxs')\n",
        "curs=con.cursor()\n",
        "no=input('enter modnm : ')\n",
        "curs.execute(\"select * from mobiles where modnm='%s'\" %no)\n",
        "data=curs.fetchone()\n",
        "if data:\n",
        "    print(data)\n",
        "    pmode=input('Enter purpose: ')\n",
        "    curs.execute(\"update mobiles set purpose='\"+pmode+\"' where modnm='%s'\" %(no))\n",
        "    con.commit()\n",
        "    print('update purpose successfully')\n",
        "else:\n",
        "    print('mobile does not exist')\n",
        "con.close()\n"
      ],
      "metadata": {
        "colab": {
          "base_uri": "https://localhost:8080/"
        },
        "id": "xcUao_1XEAcP",
        "outputId": "2695a97e-4bab-4479-8665-1fd6782adca1"
      },
      "execution_count": null,
      "outputs": [
        {
          "output_type": "stream",
          "name": "stdout",
          "text": [
            "enter modnm : note 10\n",
            "('note 10', 'redmi', 'shadow black', 'qualcommsnap dragon678', 4.0, 6.0, 128.0, 6.43, 5000.0, 20000.0, 4.3, None)\n",
            "Enter purpose: gaming\n",
            "update purpose successfully\n"
          ]
        }
      ]
    },
    {
      "cell_type": "code",
      "source": [
        "create table mobiles\n",
        "(\n",
        "    modnm varchar(50),\n",
        "    company varchar(50),\n",
        "    color varchar(50),\n",
        "    processor varchar(80),\n",
        "    connectivity float,\n",
        "    ram float,\n",
        "    rom float,\n",
        "    screen float,\n",
        "    battery float,\n",
        "    price float,\n",
        "    rating float\n",
        ");\n",
        "insert into mobiles values('note 10','redmi','shadow black','qualcommsnap dragon678',4,6,128,6.43,5000,17999,4.3);\n",
        "insert into mobiles values('samsung gallaxy F04','samsung','jade purple','mediatek helio P35',4,4,64,6.5,5000,7499,4.8);\n",
        "insert into mobiles values('narzo 5pro','realme','hyper blue','mediatek dimensity 920',5,8,128,6.4,5000,18499,4.5);\n",
        "insert into mobiles values('oppo F17 pro','oppo','blue','mediatek helio P95',4,8,128,6.43,4015,22000,4.7);\n",
        "insert into mobiles values('nord lite CE3','one plus','pastal lime','qualcomm',5,8,128,6.72,5000,19999,4.8);\n",
        "insert into mobiles values('redmi 11 prime','redmi','thunder black','mediatek dimensity',5,6,128,6.58,5000,14999,4.0);\n",
        "insert into mobiles values('Mi A3','xiaomi','blue','qualcommsnap dragon665',5,6,128,6.08,5000,16999,4.0);\n",
        "insert into mobiles values('vivo Y22','vivo','starit blue','mediatek',4,6,128,6.55,5000,16999,4);\n",
        "\n",
        "select * from mobiles;\n",
        "\n"
      ],
      "metadata": {
        "id": "adCnN2joaJtL"
      },
      "execution_count": null,
      "outputs": []
    },
    {
      "cell_type": "code",
      "source": [
        "DISPLAY ALL MOBILES IN THE DESCENDING ORDER\n",
        "#select * from mobiles order by rom desc\n",
        "TOTAL MODEL UNDER COMPANY, AVERAGE PRICE,AVERAGE RATING\n",
        "#select sum(company) from mobiles\n",
        "#select avg(price) from mobiles\n",
        "#select avg(rating) from mobiles\n",
        "ADD NEW COLUMN\n",
        "#ATLAS TABLE mobiles ADD COLUMN purpose varchar(50);\n",
        "\n"
      ],
      "metadata": {
        "id": "IwyqQLychB6c"
      },
      "execution_count": null,
      "outputs": []
    }
  ]
}